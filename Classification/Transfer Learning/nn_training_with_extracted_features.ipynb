{
 "cells": [
  {
   "cell_type": "markdown",
   "metadata": {},
   "source": [
    "Using extracted features from another trained neural network to build a brand new neural network is almost the same way to build a neural network from scratch. \n",
    "\n",
    "The only difference is instead of loading raw images, the extracted feature extracted from the pre-trained VGG16 neis loaded.\n",
    "\n",
    "\n",
    "\n",
    "\n",
    "\n"
   ]
  },
  {
   "cell_type": "code",
   "execution_count": null,
   "metadata": {},
   "outputs": [],
   "source": [
    "from keras.models import Sequential\n",
    "from keras.layers import Dense, Dropout, Flatten\n",
    "from pathlib import Path\n",
    "import joblib"
   ]
  },
  {
   "cell_type": "code",
   "execution_count": 3,
   "metadata": {},
   "outputs": [],
   "source": [
    "# Load data set\n",
    "x_train = joblib.load(\"x_train.dat\")\n",
    "y_train = joblib.load(\"y_train.dat\")"
   ]
  },
  {
   "cell_type": "code",
   "execution_count": 4,
   "metadata": {},
   "outputs": [],
   "source": [
    "# Create a model and add layers\n",
    "model = Sequential()"
   ]
  },
  {
   "cell_type": "code",
   "execution_count": 5,
   "metadata": {},
   "outputs": [],
   "source": [
    "model.add(Flatten(input_shape=x_train.shape[1:]))\n",
    "model.add(Dense(256, activation='relu'))\n",
    "model.add(Dropout(0.5))\n",
    "model.add(Dense(1, activation='sigmoid'))"
   ]
  },
  {
   "cell_type": "code",
   "execution_count": 6,
   "metadata": {},
   "outputs": [],
   "source": [
    "# Compile the model\n",
    "model.compile(\n",
    "    loss=\"binary_crossentropy\",\n",
    "    optimizer=\"adam\",\n",
    "    metrics=['accuracy']\n",
    ")"
   ]
  },
  {
   "cell_type": "code",
   "execution_count": 7,
   "metadata": {},
   "outputs": [
    {
     "name": "stdout",
     "output_type": "stream",
     "text": [
      "Epoch 1/10\n",
      "58/58 [==============================] - 0s 8ms/step - loss: 7.3559 - acc: 0.3966\n",
      "Epoch 2/10\n",
      "58/58 [==============================] - 0s 345us/step - loss: 3.4116 - acc: 0.7414\n",
      "Epoch 3/10\n",
      "58/58 [==============================] - 0s 345us/step - loss: 1.4421 - acc: 0.8276\n",
      "Epoch 4/10\n",
      "58/58 [==============================] - 0s 362us/step - loss: 0.5777 - acc: 0.9483\n",
      "Epoch 5/10\n",
      "58/58 [==============================] - 0s 362us/step - loss: 0.2823 - acc: 0.9828\n",
      "Epoch 6/10\n",
      "58/58 [==============================] - 0s 327us/step - loss: 0.4182 - acc: 0.9655\n",
      "Epoch 7/10\n",
      "58/58 [==============================] - 0s 379us/step - loss: 0.1002 - acc: 0.9655\n",
      "Epoch 8/10\n",
      "58/58 [==============================] - 0s 336us/step - loss: 1.0861e-07 - acc: 1.0000\n",
      "Epoch 9/10\n",
      "58/58 [==============================] - 0s 327us/step - loss: 0.2779 - acc: 0.9828\n",
      "Epoch 10/10\n",
      "58/58 [==============================] - 0s 327us/step - loss: 0.3186 - acc: 0.9655\n"
     ]
    },
    {
     "data": {
      "text/plain": [
       "<keras.callbacks.History at 0x18b31c26ac8>"
      ]
     },
     "execution_count": 7,
     "metadata": {},
     "output_type": "execute_result"
    }
   ],
   "source": [
    "# Train the model\n",
    "model.fit(\n",
    "    x_train,\n",
    "    y_train,\n",
    "    epochs=10,\n",
    "    shuffle=True\n",
    ")"
   ]
  },
  {
   "cell_type": "code",
   "execution_count": 9,
   "metadata": {},
   "outputs": [
    {
     "data": {
      "text/plain": [
       "1360"
      ]
     },
     "execution_count": 9,
     "metadata": {},
     "output_type": "execute_result"
    }
   ],
   "source": [
    "# Save neural network structure\n",
    "model_structure = model.to_json()\n",
    "f = Path(\"my_nn_model_structure.json\")\n",
    "f.write_text(model_structure)\n"
   ]
  },
  {
   "cell_type": "code",
   "execution_count": 10,
   "metadata": {},
   "outputs": [],
   "source": [
    "# Save neural network's trained weights\n",
    "model.save_weights(\"my_nn_model_weights.h5\")\n"
   ]
  }
 ],
 "metadata": {
  "kernelspec": {
   "display_name": "Python 3",
   "language": "python",
   "name": "python3"
  },
  "language_info": {
   "codemirror_mode": {
    "name": "ipython",
    "version": 3
   },
   "file_extension": ".py",
   "mimetype": "text/x-python",
   "name": "python",
   "nbconvert_exporter": "python",
   "pygments_lexer": "ipython3",
   "version": "3.6.6"
  }
 },
 "nbformat": 4,
 "nbformat_minor": 2
}
