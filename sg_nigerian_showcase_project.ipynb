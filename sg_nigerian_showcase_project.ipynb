{
  "nbformat": 4,
  "nbformat_minor": 0,
  "metadata": {
    "colab": {
      "name": "sg_nigerian_showcase_project.ipynb",
      "version": "0.3.2",
      "provenance": [],
      "collapsed_sections": [],
      "include_colab_link": true
    },
    "kernelspec": {
      "name": "python3",
      "display_name": "Python 3"
    }
  },
  "cells": [
    {
      "cell_type": "markdown",
      "metadata": {
        "id": "view-in-github",
        "colab_type": "text"
      },
      "source": [
        "<a href=\"https://colab.research.google.com/github/Joycechidi/MachineLearning/blob/master/sg_nigerian_showcase_project.ipynb\" target=\"_parent\"><img src=\"https://colab.research.google.com/assets/colab-badge.svg\" alt=\"Open In Colab\"/></a>"
      ]
    },
    {
      "cell_type": "markdown",
      "metadata": {
        "id": "BVJdw-5cOhuP",
        "colab_type": "text"
      },
      "source": [
        "\n",
        "##Generating New Fashion Designs for Nigerian Native Attires\n",
        "###sg_nigerian Project Showcase"
      ]
    },
    {
      "cell_type": "markdown",
      "metadata": {
        "id": "qzYFn-RsPBlH",
        "colab_type": "text"
      },
      "source": [
        "###Preamble\n",
        "This notebook outlines the stages required in the coding of the project.<br>\n",
        "Requirements for this project include the following:\n",
        "1.   Create detailed readme of project\n",
        "2.   Data sourcing of images for the project (source: facebook and Instagram)\n",
        "3.   Write the code and train the models\n",
        "4.   Include Federated learning and Differential Privacy in the project\n",
        "4.   Create a GitHub repo for the project.\n",
        "\n",
        "\n",
        "\n",
        "\n"
      ]
    },
    {
      "cell_type": "code",
      "metadata": {
        "id": "k6J2f-t4OKnR",
        "colab_type": "code",
        "colab": {}
      },
      "source": [
        "# imports goes here"
      ],
      "execution_count": 0,
      "outputs": []
    },
    {
      "cell_type": "code",
      "metadata": {
        "id": "6f22UC81OKvt",
        "colab_type": "code",
        "colab": {}
      },
      "source": [
        "# Data inputs goes here"
      ],
      "execution_count": 0,
      "outputs": []
    },
    {
      "cell_type": "code",
      "metadata": {
        "id": "v15kohBKOKyk",
        "colab_type": "code",
        "colab": {}
      },
      "source": [
        "# Data Pre-Processing and loading goes here"
      ],
      "execution_count": 0,
      "outputs": []
    },
    {
      "cell_type": "code",
      "metadata": {
        "id": "7lspur_FRdsw",
        "colab_type": "code",
        "colab": {}
      },
      "source": [
        "# Visualize a batch of preprocessed data here"
      ],
      "execution_count": 0,
      "outputs": []
    },
    {
      "cell_type": "code",
      "metadata": {
        "id": "th-X9JLEOK7J",
        "colab_type": "code",
        "colab": {}
      },
      "source": [
        "# Define the Network weights for initialization here"
      ],
      "execution_count": 0,
      "outputs": []
    },
    {
      "cell_type": "code",
      "metadata": {
        "id": "nJZgyssuOK-n",
        "colab_type": "code",
        "colab": {}
      },
      "source": [
        "# Define the Nework Generator Model here"
      ],
      "execution_count": 0,
      "outputs": []
    },
    {
      "cell_type": "code",
      "metadata": {
        "id": "hKmwHYhcRB4P",
        "colab_type": "code",
        "colab": {}
      },
      "source": [
        "# Create the Nework Generator here"
      ],
      "execution_count": 0,
      "outputs": []
    },
    {
      "cell_type": "code",
      "metadata": {
        "id": "n7s7n5qEOLDn",
        "colab_type": "code",
        "colab": {}
      },
      "source": [
        "# Define the Descriminator Model here"
      ],
      "execution_count": 0,
      "outputs": []
    },
    {
      "cell_type": "code",
      "metadata": {
        "id": "foD9HrNZOLG7",
        "colab_type": "code",
        "colab": {}
      },
      "source": [
        "# Create the Descriminator here"
      ],
      "execution_count": 0,
      "outputs": []
    },
    {
      "cell_type": "code",
      "metadata": {
        "id": "z-O6lKXTU6Xg",
        "colab_type": "code",
        "colab": {}
      },
      "source": [
        "# Create Descriminator and Generator Loses and optimizers here"
      ],
      "execution_count": 0,
      "outputs": []
    },
    {
      "cell_type": "code",
      "metadata": {
        "id": "pgABvPWXRC-F",
        "colab_type": "code",
        "colab": {}
      },
      "source": [
        "# Define the Descriminator and Generator models hyperparameters, here"
      ],
      "execution_count": 0,
      "outputs": []
    },
    {
      "cell_type": "code",
      "metadata": {
        "id": "HdhGGFMDRC_6",
        "colab_type": "code",
        "colab": {}
      },
      "source": [
        "# Train the models here"
      ],
      "execution_count": 0,
      "outputs": []
    },
    {
      "cell_type": "code",
      "metadata": {
        "id": "01YGv-IgRDDN",
        "colab_type": "code",
        "colab": {}
      },
      "source": [
        "# View samples of generated attires here"
      ],
      "execution_count": 0,
      "outputs": []
    }
  ]
}